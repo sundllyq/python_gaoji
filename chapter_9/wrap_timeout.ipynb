{
 "cells": [
  {
   "cell_type": "code",
   "execution_count": 8,
   "metadata": {
    "collapsed": true
   },
   "outputs": [],
   "source": [
    "from functools import wraps\n",
    "import time\n",
    "import logging\n",
    "from random import randint"
   ]
  },
  {
   "cell_type": "code",
   "execution_count": 13,
   "metadata": {
    "collapsed": true
   },
   "outputs": [],
   "source": [
    "def warn(timeout):\n",
    "    timeout=[timeout]\n",
    "    def decorator(func):\n",
    "        def wrapper(*args,**kargs):\n",
    "            start=time.time()\n",
    "            res=func(*args,**kargs)\n",
    "            used=time.time()-start\n",
    "            if used>timeout[0]:\n",
    "                nsg='\"%s\":\"%s\">\"%s\"' %(func.__name__,used,timeout[0])\n",
    "                logging.warn(nsg)\n",
    "            return res\n",
    "        def setTimeout(k):\n",
    "            #nonlocal timeout\n",
    "            timeout[0]=k\n",
    "        wrapper.setTimeout=setTimeout\n",
    "        return wrapper\n",
    "    return decorator"
   ]
  },
  {
   "cell_type": "code",
   "execution_count": 14,
   "metadata": {
    "collapsed": true
   },
   "outputs": [],
   "source": [
    "@warn(1.5)\n",
    "def test():\n",
    "    print \"In test\"\n",
    "    while randint(0,1):\n",
    "        time.sleep(0.5)"
   ]
  },
  {
   "cell_type": "code",
   "execution_count": 15,
   "metadata": {},
   "outputs": [
    {
     "name": "stdout",
     "output_type": "stream",
     "text": [
      "In test\n",
      "In test\n",
      "In test\n",
      "In test\n",
      "In test\n",
      "In test\n"
     ]
    },
    {
     "name": "stderr",
     "output_type": "stream",
     "text": [
      "WARNING:root:\"test\":\"1.00764989853\">\"1\"\n"
     ]
    },
    {
     "name": "stdout",
     "output_type": "stream",
     "text": [
      "In test\n",
      "In test\n",
      "In test\n",
      "In test\n",
      "In test\n",
      "In test\n",
      "In test\n",
      "In test\n"
     ]
    },
    {
     "name": "stderr",
     "output_type": "stream",
     "text": [
      "WARNING:root:\"test\":\"1.0100209713\">\"1\"\n"
     ]
    },
    {
     "name": "stdout",
     "output_type": "stream",
     "text": [
      "In test\n",
      "In test\n"
     ]
    },
    {
     "name": "stderr",
     "output_type": "stream",
     "text": [
      "WARNING:root:\"test\":\"4.03748106956\">\"1\"\n"
     ]
    },
    {
     "name": "stdout",
     "output_type": "stream",
     "text": [
      "In test\n",
      "In test\n",
      "In test\n",
      "In test\n",
      "In test\n",
      "In test\n",
      "In test\n",
      "In test\n",
      "In test\n"
     ]
    },
    {
     "name": "stderr",
     "output_type": "stream",
     "text": [
      "WARNING:root:\"test\":\"1.00788497925\">\"1\"\n"
     ]
    },
    {
     "name": "stdout",
     "output_type": "stream",
     "text": [
      "In test\n",
      "In test\n",
      "In test\n"
     ]
    },
    {
     "name": "stderr",
     "output_type": "stream",
     "text": [
      "WARNING:root:\"test\":\"1.50376582146\">\"1\"\n"
     ]
    },
    {
     "name": "stdout",
     "output_type": "stream",
     "text": [
      "In test\n",
      "In test\n"
     ]
    }
   ],
   "source": [
    "test.setTimeout(1)\n",
    "for _ in xrange(30):\n",
    "    test()"
   ]
  },
  {
   "cell_type": "code",
   "execution_count": null,
   "metadata": {
    "collapsed": true
   },
   "outputs": [],
   "source": []
  }
 ],
 "metadata": {
  "kernelspec": {
   "display_name": "Python 2",
   "language": "python",
   "name": "python2"
  },
  "language_info": {
   "codemirror_mode": {
    "name": "ipython",
    "version": 2
   },
   "file_extension": ".py",
   "mimetype": "text/x-python",
   "name": "python",
   "nbconvert_exporter": "python",
   "pygments_lexer": "ipython2",
   "version": "2.7.13"
  }
 },
 "nbformat": 4,
 "nbformat_minor": 2
}
