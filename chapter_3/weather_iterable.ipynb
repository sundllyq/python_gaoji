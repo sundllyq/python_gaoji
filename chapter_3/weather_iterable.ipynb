{
 "cells": [
  {
   "cell_type": "code",
   "execution_count": 2,
   "metadata": {
    "collapsed": true
   },
   "outputs": [],
   "source": [
    "#coding:utf8\n",
    "import requests"
   ]
  },
  {
   "cell_type": "code",
   "execution_count": 10,
   "metadata": {
    "collapsed": true
   },
   "outputs": [],
   "source": [
    "def get_weather(city):\n",
    "    r=requests.get(u'http://wthrcdn.etouch.cn/weathter_minicity='+city)\n",
    "    data=r.json()['data']['forecast'][0]\n",
    "    return '%s: %s, %s' % (city,data['low'],data['high'])"
   ]
  },
  {
   "cell_type": "code",
   "execution_count": 12,
   "metadata": {
    "collapsed": true
   },
   "outputs": [],
   "source": [
    "from collections import Iterable,Iterator"
   ]
  },
  {
   "cell_type": "code",
   "execution_count": 13,
   "metadata": {
    "collapsed": true
   },
   "outputs": [],
   "source": [
    "class WeatherIterator(Iterator):\n",
    "    def __init__(self,cities):\n",
    "        self.cities=cities\n",
    "        self.index=0\n",
    "    \n",
    "    def get_weather(self,city):\n",
    "        r=requests.get(u'http://wthrcdn.etouch.cn/weathter_minicity='+city)\n",
    "        data=r.json()['data']['forecast'][0]\n",
    "        return '%s: %s, %s' % (city,data['low'],data['high'])\n",
    "    \n",
    "    def next(self):\n",
    "        if self.index==len(self.cities):\n",
    "            raise StopIteration\n",
    "        city=self.cities[self.index]\n",
    "        self.index+=1\n",
    "        return self.get_weather(city)"
   ]
  },
  {
   "cell_type": "code",
   "execution_count": 14,
   "metadata": {
    "collapsed": true
   },
   "outputs": [],
   "source": [
    "class WeatherIterable(Iterable):\n",
    "    def __init__(self,cities):\n",
    "        self.cities=cities\n",
    "    \n",
    "    def __iter__(self):\n",
    "        return WeatherIterator(self.cities)"
   ]
  },
  {
   "cell_type": "code",
   "execution_count": null,
   "metadata": {
    "collapsed": true
   },
   "outputs": [],
   "source": [
    "for x in WeatherIterable([u'北京',u'上海',u'广州']):\n",
    "    print x"
   ]
  }
 ],
 "metadata": {
  "kernelspec": {
   "display_name": "Python 2",
   "language": "python",
   "name": "python2"
  },
  "language_info": {
   "codemirror_mode": {
    "name": "ipython",
    "version": 2
   },
   "file_extension": ".py",
   "mimetype": "text/x-python",
   "name": "python",
   "nbconvert_exporter": "python",
   "pygments_lexer": "ipython2",
   "version": "2.7.13"
  }
 },
 "nbformat": 4,
 "nbformat_minor": 2
}
