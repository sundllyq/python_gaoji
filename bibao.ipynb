{
 "cells": [
  {
   "cell_type": "code",
   "execution_count": 2,
   "metadata": {},
   "outputs": [
    {
     "name": "stdout",
     "output_type": "stream",
     "text": [
      "print s in numFunc:  string in global\n",
      "locals of numFunc:  {'a': 3, 'b': 6, 'addFunc': <function addFunc at 0x10f8d4cf8>, 'num': 100}\n",
      "\n",
      "print s in addFunc:  string in addFunc\n",
      "print num in addFunc:  100\n",
      "locals of addFunc:  {'a': 3, 's': 'string in addFunc', 'b': 6, 'num': 100}\n",
      "\n"
     ]
    },
    {
     "data": {
      "text/plain": [
       "'3 + 6 = 9'"
      ]
     },
     "execution_count": 2,
     "metadata": {},
     "output_type": "execute_result"
    }
   ],
   "source": [
    "s = \"string in global\"\n",
    "num = 99\n",
    "\n",
    "def numFunc(a, b):\n",
    "    num = 100\n",
    "    print \"print s in numFunc: \", s\n",
    "\n",
    "    def addFunc(a, b):\n",
    "        s = \"string in addFunc\"\n",
    "        print \"print s in addFunc: \", s\n",
    "        print \"print num in addFunc: \", num\n",
    "        print \"locals of addFunc: \", locals()\n",
    "        print \n",
    "        return \"%d + %d = %d\" %(a, b, a + b)\n",
    "\n",
    "    print \"locals of numFunc: \", locals()\n",
    "    print \n",
    "    return addFunc(a, b)\n",
    "\n",
    "numFunc(3, 6)    \n",
    "#print \"globals: \", globals()"
   ]
  },
  {
   "cell_type": "code",
   "execution_count": 3,
   "metadata": {},
   "outputs": [
    {
     "name": "stdout",
     "output_type": "stream",
     "text": [
      "Good Morning Wilber\n",
      "Good Morning Will\n",
      "\n",
      "Good Afternoon Wilber\n",
      "Good Afternoon Will\n"
     ]
    }
   ],
   "source": [
    "def greeting_conf(prefix):\n",
    "    def greeting(name):\n",
    "        print prefix, name\n",
    "    return greeting\n",
    "\n",
    "mGreeting = greeting_conf(\"Good Morning\")\n",
    "mGreeting(\"Wilber\")\n",
    "mGreeting(\"Will\")\n",
    "\n",
    "print\n",
    "\n",
    "aGreeting = greeting_conf(\"Good Afternoon\")    \n",
    "aGreeting(\"Wilber\")\n",
    "aGreeting(\"Will\")"
   ]
  },
  {
   "cell_type": "code",
   "execution_count": 4,
   "metadata": {},
   "outputs": [
    {
     "name": "stdout",
     "output_type": "stream",
     "text": [
      "function name is: greeting\n",
      "id of mGreeting is: 4555884736\n",
      "\n",
      "function name is: greeting\n",
      "id of aGreeting is: 4549435712\n"
     ]
    }
   ],
   "source": [
    "def greeting_conf(prefix):\n",
    "    def greeting(name):\n",
    "        print prefix, name\n",
    "    return greeting\n",
    "\n",
    "mGreeting = greeting_conf(\"Good Morning\")      \n",
    "print \"function name is:\", mGreeting.__name__\n",
    "print \"id of mGreeting is:\", id(mGreeting)\n",
    "\n",
    "print\n",
    "\n",
    "aGreeting = greeting_conf(\"Good Afternoon\")  \n",
    "print \"function name is:\", aGreeting.__name__\n",
    "print \"id of aGreeting is:\", id(aGreeting)"
   ]
  },
  {
   "cell_type": "code",
   "execution_count": null,
   "metadata": {
    "collapsed": true
   },
   "outputs": [],
   "source": []
  }
 ],
 "metadata": {
  "kernelspec": {
   "display_name": "Python 2",
   "language": "python",
   "name": "python2"
  },
  "language_info": {
   "codemirror_mode": {
    "name": "ipython",
    "version": 2
   },
   "file_extension": ".py",
   "mimetype": "text/x-python",
   "name": "python",
   "nbconvert_exporter": "python",
   "pygments_lexer": "ipython2",
   "version": "2.7.13"
  }
 },
 "nbformat": 4,
 "nbformat_minor": 2
}
