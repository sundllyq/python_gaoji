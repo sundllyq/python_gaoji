{
 "cells": [
  {
   "cell_type": "code",
   "execution_count": 4,
   "metadata": {
    "collapsed": true
   },
   "outputs": [],
   "source": [
    "class Inttuple(tuple):\n",
    "    def __new__(cls,iterable):\n",
    "        g=(x for x in iterable if isinstance(x,int) and x>0)\n",
    "        return super(Inttuple,cls).__new__(cls,g)\n",
    "    \n",
    "    def __init__(self,iterable):\n",
    "        super(Inttuple,self).__init__(iterable)\n",
    "\n",
    "    "
   ]
  },
  {
   "cell_type": "code",
   "execution_count": 5,
   "metadata": {},
   "outputs": [
    {
     "name": "stdout",
     "output_type": "stream",
     "text": [
      "(1, 6, 1)\n"
     ]
    },
    {
     "name": "stderr",
     "output_type": "stream",
     "text": [
      "/Users/liyingqi/lyq_workspace/env1/lib/python2.7/site-packages/ipykernel_launcher.py:7: DeprecationWarning: object.__init__() takes no parameters\n",
      "  import sys\n"
     ]
    }
   ],
   "source": [
    "t=Inttuple([1,-1,'abc',6,['x','y'],1])\n",
    "print t"
   ]
  },
  {
   "cell_type": "code",
   "execution_count": null,
   "metadata": {
    "collapsed": true
   },
   "outputs": [],
   "source": []
  }
 ],
 "metadata": {
  "kernelspec": {
   "display_name": "Python 2",
   "language": "python",
   "name": "python2"
  },
  "language_info": {
   "codemirror_mode": {
    "name": "ipython",
    "version": 2
   },
   "file_extension": ".py",
   "mimetype": "text/x-python",
   "name": "python",
   "nbconvert_exporter": "python",
   "pygments_lexer": "ipython2",
   "version": "2.7.13"
  }
 },
 "nbformat": 4,
 "nbformat_minor": 2
}
