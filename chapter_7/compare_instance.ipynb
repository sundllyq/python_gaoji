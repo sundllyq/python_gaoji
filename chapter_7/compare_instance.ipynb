{
 "cells": [
  {
   "cell_type": "code",
   "execution_count": 5,
   "metadata": {
    "collapsed": true
   },
   "outputs": [],
   "source": [
    "import functools \n",
    "from functools import total_ordering"
   ]
  },
  {
   "cell_type": "code",
   "execution_count": 7,
   "metadata": {
    "collapsed": true
   },
   "outputs": [],
   "source": [
    "class Rectangle:\n",
    "    def __init__(self,w,h):\n",
    "        self.w=w\n",
    "        self.h=h\n",
    "        \n",
    "    def area(self):\n",
    "        return self.w*self.h\n",
    "    \n",
    "    def __lt__(self,obj):\n",
    "        return self.area()<obj.area()\n",
    "    \n",
    "    def __eq__(self,obj):\n",
    "        return self.area()==obj.area()"
   ]
  },
  {
   "cell_type": "code",
   "execution_count": null,
   "metadata": {
    "collapsed": true
   },
   "outputs": [],
   "source": []
  },
  {
   "cell_type": "code",
   "execution_count": 8,
   "metadata": {
    "collapsed": true
   },
   "outputs": [],
   "source": [
    "rect1=Rectangle(5,3)\n",
    "rect2=Rectangle(4,4)"
   ]
  },
  {
   "cell_type": "code",
   "execution_count": 9,
   "metadata": {},
   "outputs": [
    {
     "name": "stdout",
     "output_type": "stream",
     "text": [
      "True\n"
     ]
    }
   ],
   "source": [
    "print rect1<rect2"
   ]
  },
  {
   "cell_type": "code",
   "execution_count": 10,
   "metadata": {
    "collapsed": true
   },
   "outputs": [],
   "source": [
    "from abc import ABCMeta,abstractmethod"
   ]
  },
  {
   "cell_type": "code",
   "execution_count": 12,
   "metadata": {},
   "outputs": [],
   "source": [
    "@total_ordering\n",
    "class Shape(object):\n",
    "    @abstractmethod\n",
    "    def area(self):\n",
    "        pass\n",
    "    def __lt__(self,obj):\n",
    "        if not isinstance(obj,Shape):\n",
    "            raise TypeError('not a shape')\n",
    "        return self.area()<obj.area()\n",
    "    def __eq__(self,obj):\n",
    "        if not isinstance(obj,Shape):\n",
    "            raise TypeError('not a shape')\n",
    "        return self.area()==obj.area()\n",
    "class Rectangle(Shape):\n",
    "    def __init__(self,w,h):\n",
    "        self.w=w\n",
    "        self.h=h  \n",
    "    def area(self):\n",
    "        return self.w*self.h\n",
    "    \n",
    "class Circle(Shape):\n",
    "    def __init__(self,r):\n",
    "        self.r=r\n",
    "    def area(self):\n",
    "        return self.r**2*3.14"
   ]
  },
  {
   "cell_type": "code",
   "execution_count": null,
   "metadata": {
    "collapsed": true
   },
   "outputs": [],
   "source": []
  }
 ],
 "metadata": {
  "kernelspec": {
   "display_name": "Python 2",
   "language": "python",
   "name": "python2"
  },
  "language_info": {
   "codemirror_mode": {
    "name": "ipython",
    "version": 2
   },
   "file_extension": ".py",
   "mimetype": "text/x-python",
   "name": "python",
   "nbconvert_exporter": "python",
   "pygments_lexer": "ipython2",
   "version": "2.7.13"
  }
 },
 "nbformat": 4,
 "nbformat_minor": 2
}
