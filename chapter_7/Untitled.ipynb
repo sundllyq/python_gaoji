{
 "cells": [
  {
   "cell_type": "code",
   "execution_count": 12,
   "metadata": {},
   "outputs": [
    {
     "name": "stdout",
     "output_type": "stream",
     "text": [
      "1\n",
      "3\n",
      "5\n",
      "7\n",
      "9\n"
     ]
    }
   ],
   "source": [
    "def odd():\n",
    "    n=1\n",
    "    while True:\n",
    "        yield n\n",
    "        n+=2\n",
    "odd_num = odd()\n",
    "count = 0\n",
    "for o in odd_num:\n",
    "    if count >=5: break\n",
    "    print(o)\n",
    "    count +=1"
   ]
  },
  {
   "cell_type": "code",
   "execution_count": 13,
   "metadata": {},
   "outputs": [
    {
     "name": "stdout",
     "output_type": "stream",
     "text": [
      "<Person: piglei(24)>\n"
     ]
    }
   ],
   "source": [
    "# -*- coding: utf-8 -*-\n",
    " \n",
    "class Person(object):\n",
    "    \"\"\"Silly Person\"\"\"\n",
    " \n",
    "    def __init__(self, name, age):\n",
    "        self.name = name\n",
    "        self.age = age\n",
    " \n",
    "    def __str__(self):\n",
    "        return '<Person: %s(%s)>' % (self.name, self.age)\n",
    " \n",
    "if __name__ == '__main__':\n",
    "    piglei = Person('piglei', 24)\n",
    "    print piglei"
   ]
  },
  {
   "cell_type": "code",
   "execution_count": 14,
   "metadata": {},
   "outputs": [
    {
     "name": "stdout",
     "output_type": "stream",
     "text": [
      "__new__ called.\n",
      "__init__ called.\n",
      "<Person: piglei(24)>\n"
     ]
    },
    {
     "name": "stderr",
     "output_type": "stream",
     "text": [
      "/Users/liyingqi/lyq_workspace/env1/lib/python2.7/site-packages/ipykernel_launcher.py:8: DeprecationWarning: object() takes no parameters\n",
      "  \n"
     ]
    }
   ],
   "source": [
    "# -*- coding: utf-8 -*-\n",
    " \n",
    "class Person(object):\n",
    "    \"\"\"Silly Person\"\"\"\n",
    " \n",
    "    def __new__(cls, name, age):\n",
    "        print '__new__ called.'\n",
    "        return super(Person, cls).__new__(cls, name, age)\n",
    " \n",
    "    def __init__(self, name, age):\n",
    "        print '__init__ called.'\n",
    "        self.name = name\n",
    "        self.age = age\n",
    " \n",
    "    def __str__(self):\n",
    "        return '<Person: %s(%s)>' % (self.name, self.age)\n",
    " \n",
    "if __name__ == '__main__':\n",
    "    piglei = Person('piglei', 24)\n",
    "    print piglei"
   ]
  },
  {
   "cell_type": "code",
   "execution_count": null,
   "metadata": {
    "collapsed": true
   },
   "outputs": [],
   "source": []
  }
 ],
 "metadata": {
  "kernelspec": {
   "display_name": "Python 2",
   "language": "python",
   "name": "python2"
  },
  "language_info": {
   "codemirror_mode": {
    "name": "ipython",
    "version": 2
   },
   "file_extension": ".py",
   "mimetype": "text/x-python",
   "name": "python",
   "nbconvert_exporter": "python",
   "pygments_lexer": "ipython2",
   "version": "2.7.13"
  }
 },
 "nbformat": 4,
 "nbformat_minor": 2
}
